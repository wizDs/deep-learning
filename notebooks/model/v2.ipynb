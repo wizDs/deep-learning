{
  "cells": [
    {
      "cell_type": "code",
      "execution_count": 1,
      "metadata": {
        "colab": {
          "base_uri": "https://localhost:8080/"
        },
        "id": "Nkpq1r4rdivB",
        "outputId": "e62f4158-4fd7-4a2f-c44b-ed883f2bb3e7"
      },
      "outputs": [
        {
          "output_type": "stream",
          "name": "stdout",
          "text": [
            "Requirement already satisfied: jaxtyping in /usr/local/lib/python3.10/dist-packages (0.2.23)\n",
            "Requirement already satisfied: equinox in /usr/local/lib/python3.10/dist-packages (0.11.2)\n",
            "Requirement already satisfied: numpy>=1.20.0 in /usr/local/lib/python3.10/dist-packages (from jaxtyping) (1.23.5)\n",
            "Requirement already satisfied: typeguard<3,>=2.13.3 in /usr/local/lib/python3.10/dist-packages (from jaxtyping) (2.13.3)\n",
            "Requirement already satisfied: typing-extensions>=3.7.4.1 in /usr/local/lib/python3.10/dist-packages (from jaxtyping) (4.5.0)\n",
            "Requirement already satisfied: jax>=0.4.13 in /usr/local/lib/python3.10/dist-packages (from equinox) (0.4.20)\n",
            "Requirement already satisfied: ml-dtypes>=0.2.0 in /usr/local/lib/python3.10/dist-packages (from jax>=0.4.13->equinox) (0.2.0)\n",
            "Requirement already satisfied: opt-einsum in /usr/local/lib/python3.10/dist-packages (from jax>=0.4.13->equinox) (3.3.0)\n",
            "Requirement already satisfied: scipy>=1.9 in /usr/local/lib/python3.10/dist-packages (from jax>=0.4.13->equinox) (1.11.3)\n"
          ]
        }
      ],
      "source": [
        "!pip install jaxtyping equinox"
      ]
    },
    {
      "cell_type": "code",
      "execution_count": 2,
      "metadata": {
        "id": "B14rv-ZCdOVZ"
      },
      "outputs": [],
      "source": [
        "import jax\n",
        "import jax.numpy as jnp\n",
        "import optax  # https://github.com/deepmind/optax\n",
        "import torch  # https://pytorch.org\n",
        "import torchvision  # https://pytorch.org\n",
        "from jaxtyping import Array, Float, Int, PyTree  # https://github.com/google/jaxtyping\n",
        "\n",
        "import equinox as eqx"
      ]
    },
    {
      "cell_type": "code",
      "execution_count": 3,
      "metadata": {
        "id": "b1TF8daVdsLA"
      },
      "outputs": [],
      "source": [
        "# Hyperparameters\n",
        "\n",
        "BATCH_SIZE = 64\n",
        "LEARNING_RATE = 3e-4\n",
        "STEPS = 300\n",
        "PRINT_EVERY = 10\n",
        "SEED = 5678\n",
        "\n",
        "key = jax.random.PRNGKey(SEED)"
      ]
    },
    {
      "cell_type": "code",
      "execution_count": 4,
      "metadata": {
        "colab": {
          "base_uri": "https://localhost:8080/"
        },
        "id": "SxZXYiZFd1fw",
        "outputId": "d0cc173e-0386-4aa3-97a2-a4b1f1927cd2"
      },
      "outputs": [
        {
          "output_type": "stream",
          "name": "stdout",
          "text": [
            "Files already downloaded and verified\n",
            "Files already downloaded and verified\n"
          ]
        }
      ],
      "source": [
        "normalise_data = torchvision.transforms.Compose(\n",
        "    [\n",
        "        torchvision.transforms.ToTensor(),\n",
        "        torchvision.transforms.Normalize((0.5,), (0.5,)),\n",
        "    ]\n",
        ")\n",
        "train_dataset = torchvision.datasets.CIFAR10(\n",
        "    \"CIFAR10\",\n",
        "    train=True,\n",
        "    download=True,\n",
        "    transform=normalise_data,\n",
        ")\n",
        "test_dataset = torchvision.datasets.CIFAR10(\n",
        "    \"CIFAR10\",\n",
        "    train=False,\n",
        "    download=True,\n",
        "    transform=normalise_data,\n",
        ")\n",
        "trainloader = torch.utils.data.DataLoader(\n",
        "    train_dataset, batch_size=BATCH_SIZE, shuffle=True\n",
        ")\n",
        "testloader = torch.utils.data.DataLoader(\n",
        "    test_dataset, batch_size=BATCH_SIZE, shuffle=True\n",
        ")"
      ]
    },
    {
      "cell_type": "code",
      "execution_count": 5,
      "metadata": {
        "colab": {
          "base_uri": "https://localhost:8080/",
          "height": 424
        },
        "id": "4GFhtlxufqAO",
        "outputId": "f5e4db2f-2ba1-420f-d094-a812943694d9"
      },
      "outputs": [
        {
          "output_type": "execute_result",
          "data": {
            "text/plain": [
              "                                                features  labels\n",
              "0      [[-0.5372549, -0.6627451, -0.60784316, -0.4666...       6\n",
              "1      [[0.20784318, -0.011764705, -0.17647058, -0.19...       9\n",
              "2      [[1.0, 0.9843137, 0.9843137, 0.9843137, 0.9843...       9\n",
              "3      [[-0.78039217, -0.70980394, -0.7019608, -0.670...       4\n",
              "4      [[0.33333337, 0.3176471, 0.38823533, 0.4352941...       1\n",
              "...                                                  ...     ...\n",
              "49995  [[0.13725495, 0.18431377, 0.22352946, 0.215686...       2\n",
              "49996  [[1.0, 0.99215686, 1.0, 0.99215686, 0.99215686...       6\n",
              "49997  [[-0.7254902, -0.6862745, -0.67058825, -0.6941...       9\n",
              "49998  [[0.48235297, 0.45882356, 0.45098042, 0.443137...       1\n",
              "49999  [[0.79607844, 0.8509804, 0.8352941, 0.8117647,...       1\n",
              "\n",
              "[50000 rows x 2 columns]"
            ],
            "text/html": [
              "\n",
              "  <div id=\"df-4fcc9f24-95e3-48d8-ade2-cbf5fddd0670\" class=\"colab-df-container\">\n",
              "    <div>\n",
              "<style scoped>\n",
              "    .dataframe tbody tr th:only-of-type {\n",
              "        vertical-align: middle;\n",
              "    }\n",
              "\n",
              "    .dataframe tbody tr th {\n",
              "        vertical-align: top;\n",
              "    }\n",
              "\n",
              "    .dataframe thead th {\n",
              "        text-align: right;\n",
              "    }\n",
              "</style>\n",
              "<table border=\"1\" class=\"dataframe\">\n",
              "  <thead>\n",
              "    <tr style=\"text-align: right;\">\n",
              "      <th></th>\n",
              "      <th>features</th>\n",
              "      <th>labels</th>\n",
              "    </tr>\n",
              "  </thead>\n",
              "  <tbody>\n",
              "    <tr>\n",
              "      <th>0</th>\n",
              "      <td>[[-0.5372549, -0.6627451, -0.60784316, -0.4666...</td>\n",
              "      <td>6</td>\n",
              "    </tr>\n",
              "    <tr>\n",
              "      <th>1</th>\n",
              "      <td>[[0.20784318, -0.011764705, -0.17647058, -0.19...</td>\n",
              "      <td>9</td>\n",
              "    </tr>\n",
              "    <tr>\n",
              "      <th>2</th>\n",
              "      <td>[[1.0, 0.9843137, 0.9843137, 0.9843137, 0.9843...</td>\n",
              "      <td>9</td>\n",
              "    </tr>\n",
              "    <tr>\n",
              "      <th>3</th>\n",
              "      <td>[[-0.78039217, -0.70980394, -0.7019608, -0.670...</td>\n",
              "      <td>4</td>\n",
              "    </tr>\n",
              "    <tr>\n",
              "      <th>4</th>\n",
              "      <td>[[0.33333337, 0.3176471, 0.38823533, 0.4352941...</td>\n",
              "      <td>1</td>\n",
              "    </tr>\n",
              "    <tr>\n",
              "      <th>...</th>\n",
              "      <td>...</td>\n",
              "      <td>...</td>\n",
              "    </tr>\n",
              "    <tr>\n",
              "      <th>49995</th>\n",
              "      <td>[[0.13725495, 0.18431377, 0.22352946, 0.215686...</td>\n",
              "      <td>2</td>\n",
              "    </tr>\n",
              "    <tr>\n",
              "      <th>49996</th>\n",
              "      <td>[[1.0, 0.99215686, 1.0, 0.99215686, 0.99215686...</td>\n",
              "      <td>6</td>\n",
              "    </tr>\n",
              "    <tr>\n",
              "      <th>49997</th>\n",
              "      <td>[[-0.7254902, -0.6862745, -0.67058825, -0.6941...</td>\n",
              "      <td>9</td>\n",
              "    </tr>\n",
              "    <tr>\n",
              "      <th>49998</th>\n",
              "      <td>[[0.48235297, 0.45882356, 0.45098042, 0.443137...</td>\n",
              "      <td>1</td>\n",
              "    </tr>\n",
              "    <tr>\n",
              "      <th>49999</th>\n",
              "      <td>[[0.79607844, 0.8509804, 0.8352941, 0.8117647,...</td>\n",
              "      <td>1</td>\n",
              "    </tr>\n",
              "  </tbody>\n",
              "</table>\n",
              "<p>50000 rows × 2 columns</p>\n",
              "</div>\n",
              "    <div class=\"colab-df-buttons\">\n",
              "\n",
              "  <div class=\"colab-df-container\">\n",
              "    <button class=\"colab-df-convert\" onclick=\"convertToInteractive('df-4fcc9f24-95e3-48d8-ade2-cbf5fddd0670')\"\n",
              "            title=\"Convert this dataframe to an interactive table.\"\n",
              "            style=\"display:none;\">\n",
              "\n",
              "  <svg xmlns=\"http://www.w3.org/2000/svg\" height=\"24px\" viewBox=\"0 -960 960 960\">\n",
              "    <path d=\"M120-120v-720h720v720H120Zm60-500h600v-160H180v160Zm220 220h160v-160H400v160Zm0 220h160v-160H400v160ZM180-400h160v-160H180v160Zm440 0h160v-160H620v160ZM180-180h160v-160H180v160Zm440 0h160v-160H620v160Z\"/>\n",
              "  </svg>\n",
              "    </button>\n",
              "\n",
              "  <style>\n",
              "    .colab-df-container {\n",
              "      display:flex;\n",
              "      gap: 12px;\n",
              "    }\n",
              "\n",
              "    .colab-df-convert {\n",
              "      background-color: #E8F0FE;\n",
              "      border: none;\n",
              "      border-radius: 50%;\n",
              "      cursor: pointer;\n",
              "      display: none;\n",
              "      fill: #1967D2;\n",
              "      height: 32px;\n",
              "      padding: 0 0 0 0;\n",
              "      width: 32px;\n",
              "    }\n",
              "\n",
              "    .colab-df-convert:hover {\n",
              "      background-color: #E2EBFA;\n",
              "      box-shadow: 0px 1px 2px rgba(60, 64, 67, 0.3), 0px 1px 3px 1px rgba(60, 64, 67, 0.15);\n",
              "      fill: #174EA6;\n",
              "    }\n",
              "\n",
              "    .colab-df-buttons div {\n",
              "      margin-bottom: 4px;\n",
              "    }\n",
              "\n",
              "    [theme=dark] .colab-df-convert {\n",
              "      background-color: #3B4455;\n",
              "      fill: #D2E3FC;\n",
              "    }\n",
              "\n",
              "    [theme=dark] .colab-df-convert:hover {\n",
              "      background-color: #434B5C;\n",
              "      box-shadow: 0px 1px 3px 1px rgba(0, 0, 0, 0.15);\n",
              "      filter: drop-shadow(0px 1px 2px rgba(0, 0, 0, 0.3));\n",
              "      fill: #FFFFFF;\n",
              "    }\n",
              "  </style>\n",
              "\n",
              "    <script>\n",
              "      const buttonEl =\n",
              "        document.querySelector('#df-4fcc9f24-95e3-48d8-ade2-cbf5fddd0670 button.colab-df-convert');\n",
              "      buttonEl.style.display =\n",
              "        google.colab.kernel.accessAllowed ? 'block' : 'none';\n",
              "\n",
              "      async function convertToInteractive(key) {\n",
              "        const element = document.querySelector('#df-4fcc9f24-95e3-48d8-ade2-cbf5fddd0670');\n",
              "        const dataTable =\n",
              "          await google.colab.kernel.invokeFunction('convertToInteractive',\n",
              "                                                    [key], {});\n",
              "        if (!dataTable) return;\n",
              "\n",
              "        const docLinkHtml = 'Like what you see? Visit the ' +\n",
              "          '<a target=\"_blank\" href=https://colab.research.google.com/notebooks/data_table.ipynb>data table notebook</a>'\n",
              "          + ' to learn more about interactive tables.';\n",
              "        element.innerHTML = '';\n",
              "        dataTable['output_type'] = 'display_data';\n",
              "        await google.colab.output.renderOutput(dataTable, element);\n",
              "        const docLink = document.createElement('div');\n",
              "        docLink.innerHTML = docLinkHtml;\n",
              "        element.appendChild(docLink);\n",
              "      }\n",
              "    </script>\n",
              "  </div>\n",
              "\n",
              "\n",
              "<div id=\"df-a48447d0-7cd5-48c3-ab10-82cf426e6d2c\">\n",
              "  <button class=\"colab-df-quickchart\" onclick=\"quickchart('df-a48447d0-7cd5-48c3-ab10-82cf426e6d2c')\"\n",
              "            title=\"Suggest charts\"\n",
              "            style=\"display:none;\">\n",
              "\n",
              "<svg xmlns=\"http://www.w3.org/2000/svg\" height=\"24px\"viewBox=\"0 0 24 24\"\n",
              "     width=\"24px\">\n",
              "    <g>\n",
              "        <path d=\"M19 3H5c-1.1 0-2 .9-2 2v14c0 1.1.9 2 2 2h14c1.1 0 2-.9 2-2V5c0-1.1-.9-2-2-2zM9 17H7v-7h2v7zm4 0h-2V7h2v10zm4 0h-2v-4h2v4z\"/>\n",
              "    </g>\n",
              "</svg>\n",
              "  </button>\n",
              "\n",
              "<style>\n",
              "  .colab-df-quickchart {\n",
              "      --bg-color: #E8F0FE;\n",
              "      --fill-color: #1967D2;\n",
              "      --hover-bg-color: #E2EBFA;\n",
              "      --hover-fill-color: #174EA6;\n",
              "      --disabled-fill-color: #AAA;\n",
              "      --disabled-bg-color: #DDD;\n",
              "  }\n",
              "\n",
              "  [theme=dark] .colab-df-quickchart {\n",
              "      --bg-color: #3B4455;\n",
              "      --fill-color: #D2E3FC;\n",
              "      --hover-bg-color: #434B5C;\n",
              "      --hover-fill-color: #FFFFFF;\n",
              "      --disabled-bg-color: #3B4455;\n",
              "      --disabled-fill-color: #666;\n",
              "  }\n",
              "\n",
              "  .colab-df-quickchart {\n",
              "    background-color: var(--bg-color);\n",
              "    border: none;\n",
              "    border-radius: 50%;\n",
              "    cursor: pointer;\n",
              "    display: none;\n",
              "    fill: var(--fill-color);\n",
              "    height: 32px;\n",
              "    padding: 0;\n",
              "    width: 32px;\n",
              "  }\n",
              "\n",
              "  .colab-df-quickchart:hover {\n",
              "    background-color: var(--hover-bg-color);\n",
              "    box-shadow: 0 1px 2px rgba(60, 64, 67, 0.3), 0 1px 3px 1px rgba(60, 64, 67, 0.15);\n",
              "    fill: var(--button-hover-fill-color);\n",
              "  }\n",
              "\n",
              "  .colab-df-quickchart-complete:disabled,\n",
              "  .colab-df-quickchart-complete:disabled:hover {\n",
              "    background-color: var(--disabled-bg-color);\n",
              "    fill: var(--disabled-fill-color);\n",
              "    box-shadow: none;\n",
              "  }\n",
              "\n",
              "  .colab-df-spinner {\n",
              "    border: 2px solid var(--fill-color);\n",
              "    border-color: transparent;\n",
              "    border-bottom-color: var(--fill-color);\n",
              "    animation:\n",
              "      spin 1s steps(1) infinite;\n",
              "  }\n",
              "\n",
              "  @keyframes spin {\n",
              "    0% {\n",
              "      border-color: transparent;\n",
              "      border-bottom-color: var(--fill-color);\n",
              "      border-left-color: var(--fill-color);\n",
              "    }\n",
              "    20% {\n",
              "      border-color: transparent;\n",
              "      border-left-color: var(--fill-color);\n",
              "      border-top-color: var(--fill-color);\n",
              "    }\n",
              "    30% {\n",
              "      border-color: transparent;\n",
              "      border-left-color: var(--fill-color);\n",
              "      border-top-color: var(--fill-color);\n",
              "      border-right-color: var(--fill-color);\n",
              "    }\n",
              "    40% {\n",
              "      border-color: transparent;\n",
              "      border-right-color: var(--fill-color);\n",
              "      border-top-color: var(--fill-color);\n",
              "    }\n",
              "    60% {\n",
              "      border-color: transparent;\n",
              "      border-right-color: var(--fill-color);\n",
              "    }\n",
              "    80% {\n",
              "      border-color: transparent;\n",
              "      border-right-color: var(--fill-color);\n",
              "      border-bottom-color: var(--fill-color);\n",
              "    }\n",
              "    90% {\n",
              "      border-color: transparent;\n",
              "      border-bottom-color: var(--fill-color);\n",
              "    }\n",
              "  }\n",
              "</style>\n",
              "\n",
              "  <script>\n",
              "    async function quickchart(key) {\n",
              "      const quickchartButtonEl =\n",
              "        document.querySelector('#' + key + ' button');\n",
              "      quickchartButtonEl.disabled = true;  // To prevent multiple clicks.\n",
              "      quickchartButtonEl.classList.add('colab-df-spinner');\n",
              "      try {\n",
              "        const charts = await google.colab.kernel.invokeFunction(\n",
              "            'suggestCharts', [key], {});\n",
              "      } catch (error) {\n",
              "        console.error('Error during call to suggestCharts:', error);\n",
              "      }\n",
              "      quickchartButtonEl.classList.remove('colab-df-spinner');\n",
              "      quickchartButtonEl.classList.add('colab-df-quickchart-complete');\n",
              "    }\n",
              "    (() => {\n",
              "      let quickchartButtonEl =\n",
              "        document.querySelector('#df-a48447d0-7cd5-48c3-ab10-82cf426e6d2c button');\n",
              "      quickchartButtonEl.style.display =\n",
              "        google.colab.kernel.accessAllowed ? 'block' : 'none';\n",
              "    })();\n",
              "  </script>\n",
              "</div>\n",
              "    </div>\n",
              "  </div>\n"
            ]
          },
          "metadata": {},
          "execution_count": 5
        }
      ],
      "source": [
        "import pandas as pd\n",
        "data  = [(x.numpy()[0], y) for x, y in iter(train_dataset)]\n",
        "df    = pd.DataFrame(data, columns=['features', 'labels'])\n",
        "df"
      ]
    },
    {
      "cell_type": "code",
      "execution_count": 6,
      "metadata": {
        "colab": {
          "base_uri": "https://localhost:8080/",
          "height": 452
        },
        "id": "99-T5jq1iT69",
        "outputId": "add33bfa-fe78-49ac-db1b-a434d96a9ddd"
      },
      "outputs": [
        {
          "output_type": "display_data",
          "data": {
            "text/plain": [
              "<Figure size 640x480 with 1 Axes>"
            ],
            "image/png": "[encoded data removed]"
          },
          "metadata": {}
        }
      ],
      "source": [
        "from matplotlib import pyplot as plt\n",
        "df['labels'].plot(kind='hist', bins=20, title='labels')\n",
        "plt.gca().spines[['top', 'right',]].set_visible(False)"
      ]
    },
    {
      "cell_type": "code",
      "execution_count": 7,
      "metadata": {
        "colab": {
          "base_uri": "https://localhost:8080/"
        },
        "id": "iSwW1eA_gjgF",
        "outputId": "a2e421e5-32d2-4172-e334-19b3cd1b9c1a"
      },
      "outputs": [
        {
          "output_type": "stream",
          "name": "stdout",
          "text": [
            "(64, 3, 32, 32)\n",
            "(64,)\n",
            "[6 8 0 8 7 4 0 1 9 3 4 8 3 6 0 4 7 2 0 1 6 1 0 6 1 6 2 0 7 6 5 8 8 6 3 3 8\n",
            " 1 1 6 9 3 3 0 6 1 2 5 3 5 5 9 3 2 3 6 3 3 9 3 3 5 4 0]\n"
          ]
        }
      ],
      "source": [
        "# Checking our data a bit (by now, everyone knows what the MNIST dataset looks like)\n",
        "dummy_x, dummy_y = next(iter(trainloader))\n",
        "dummy_x = dummy_x.numpy()\n",
        "dummy_y = dummy_y.numpy()\n",
        "print(dummy_x.shape)  # 64x1x28x28\n",
        "print(dummy_y.shape)  # 64\n",
        "print(dummy_y)"
      ]
    },
    {
      "cell_type": "code",
      "execution_count": 8,
      "metadata": {
        "id": "yTy-9s_pigYb"
      },
      "outputs": [],
      "source": [
        "import torch\n",
        "class CNN(eqx.Module):\n",
        "    layers: list\n",
        "\n",
        "    def __init__(self, key):\n",
        "        keys = jax.random.split(key, 5)\n",
        "        # Standard CNN setup: convolutional layer, followed by flattening,\n",
        "        # with a small MLP on top.\n",
        "        self.layers = [\n",
        "            eqx.nn.Conv2d(3, 16, kernel_size=4, key=keys[0]),\n",
        "            eqx.nn.MaxPool2d(kernel_size=2),\n",
        "            jax.nn.relu,\n",
        "            eqx.nn.Conv2d(16, 32, kernel_size=4, key=keys[1]),\n",
        "            eqx.nn.MaxPool2d(kernel_size=2),\n",
        "            jax.nn.relu,\n",
        "            jnp.ravel,\n",
        "            eqx.nn.Linear(18432, 512, key=keys[2]),\n",
        "            # eqx.nn.BatchNorm(512),\n",
        "            jax.nn.sigmoid,\n",
        "            eqx.nn.Linear(512, 64, key=keys[3]),\n",
        "            # eqx.nn.BatchNorm(64),\n",
        "            jax.nn.relu,\n",
        "            eqx.nn.Linear(64, 10, key=keys[4]),\n",
        "            # eqx.nn.BatchNorm(10),\n",
        "            jax.nn.log_softmax,\n",
        "        ]\n",
        "\n",
        "    def __call__(self, x: Float[Array, \"1 32 32\"]) -> Float[Array, \"10\"]:\n",
        "        for layer in self.layers:\n",
        "            x = layer(x)\n",
        "        return x\n",
        "\n",
        "\n",
        "key, subkey = jax.random.split(key, 2)\n",
        "model = CNN(subkey)"
      ]
    },
    {
      "cell_type": "code",
      "execution_count": 9,
      "metadata": {
        "colab": {
          "base_uri": "https://localhost:8080/"
        },
        "id": "lmje2zH6mtiB",
        "outputId": "510ab5d7-6e03-4ecc-fd55-40dceb269e28"
      },
      "outputs": [
        {
          "output_type": "stream",
          "name": "stdout",
          "text": [
            "()\n",
            "(64, 10)\n"
          ]
        }
      ],
      "source": [
        "def loss(\n",
        "    model: CNN, x: Float[Array, \"batch 3 32 32\"], y: Int[Array, \" batch\"]\n",
        ") -> Float[Array, \"\"]:\n",
        "    # Our input has the shape (BATCH_SIZE, 1, 28, 28), but our model operations on\n",
        "    # a single input input image of shape (1, 28, 28).\n",
        "    #\n",
        "    # Therefore, we have to use jax.vmap, which in this case maps our model over the\n",
        "    # leading (batch) axis.\n",
        "    pred_y = jax.vmap(model)(x)\n",
        "    return cross_entropy(y, pred_y)\n",
        "\n",
        "\n",
        "def cross_entropy(\n",
        "    y: Int[Array, \" batch\"], pred_y: Float[Array, \"batch 10\"]\n",
        ") -> Float[Array, \"\"]:\n",
        "    # y are the true targets, and should be integers 0-9.\n",
        "    # pred_y are the log-softmax'd predictions.\n",
        "    pred_y = jnp.take_along_axis(pred_y, jnp.expand_dims(y, 1), axis=1)\n",
        "    return -jnp.mean(pred_y)\n",
        "\n",
        "\n",
        "# Example loss\n",
        "loss_value = loss(model, dummy_x, dummy_y)\n",
        "print(loss_value.shape)  # scalar loss\n",
        "# Example inference\n",
        "output = jax.vmap(model)(dummy_x)\n",
        "print(output.shape)  # batch of predictions"
      ]
    },
    {
      "cell_type": "code",
      "execution_count": 10,
      "metadata": {
        "colab": {
          "base_uri": "https://localhost:8080/"
        },
        "id": "Y7xDGYqlsIIe",
        "outputId": "2355d867-cef5-4478-ad9c-61b9cf99cc54"
      },
      "outputs": [
        {
          "output_type": "stream",
          "name": "stdout",
          "text": [
            "2.31608\n"
          ]
        }
      ],
      "source": [
        "# This will work!\n",
        "params, static = eqx.partition(model, eqx.is_array)\n",
        "\n",
        "\n",
        "def loss2(params, static, x, y):\n",
        "    model = eqx.combine(params, static)\n",
        "    return loss(model, x, y)\n",
        "\n",
        "\n",
        "loss_value, grads = jax.value_and_grad(loss2)(params, static, dummy_x, dummy_y)\n",
        "print(loss_value)"
      ]
    },
    {
      "cell_type": "code",
      "execution_count": 11,
      "metadata": {
        "colab": {
          "base_uri": "https://localhost:8080/"
        },
        "id": "sqwj9zQbvMdy",
        "outputId": "b001377d-88ca-49d5-dd22-cd82ddeb3132"
      },
      "outputs": [
        {
          "output_type": "stream",
          "name": "stdout",
          "text": [
            "2.31608\n"
          ]
        }
      ],
      "source": [
        "# This will work too!\n",
        "value, grads = eqx.filter_value_and_grad(loss)(model, dummy_x, dummy_y)\n",
        "print(value)"
      ]
    },
    {
      "cell_type": "code",
      "execution_count": 12,
      "metadata": {
        "id": "btAxYl0UvSVC"
      },
      "outputs": [],
      "source": [
        "loss = eqx.filter_jit(loss)  # JIT our loss function from earlier!\n",
        "\n",
        "\n",
        "@eqx.filter_jit\n",
        "def compute_accuracy(\n",
        "    model: CNN, x: Float[Array, \"batch 1 28 28\"], y: Int[Array, \" batch\"]\n",
        ") -> Float[Array, \"\"]:\n",
        "    \"\"\"This function takes as input the current model\n",
        "    and computes the average accuracy on a batch.\n",
        "    \"\"\"\n",
        "    pred_y = jax.vmap(model)(x)\n",
        "    pred_y = jnp.argmax(pred_y, axis=1)\n",
        "    return jnp.mean(y == pred_y)"
      ]
    },
    {
      "cell_type": "code",
      "execution_count": 13,
      "metadata": {
        "id": "jyFUYQk2vUBB"
      },
      "outputs": [],
      "source": [
        "def evaluate(model: CNN, testloader: torch.utils.data.DataLoader):\n",
        "    \"\"\"This function evaluates the model on the test dataset,\n",
        "    computing both the average loss and the average accuracy.\n",
        "    \"\"\"\n",
        "    avg_loss = 0\n",
        "    avg_acc = 0\n",
        "    for x, y in testloader:\n",
        "        x = x.numpy()\n",
        "        y = y.numpy()\n",
        "        # Note that all the JAX operations happen inside `loss` and `compute_accuracy`,\n",
        "        # and both have JIT wrappers, so this is fast.\n",
        "        avg_loss += loss(model, x, y)\n",
        "        avg_acc += compute_accuracy(model, x, y)\n",
        "    return avg_loss / len(testloader), avg_acc / len(testloader)"
      ]
    },
    {
      "cell_type": "code",
      "execution_count": 14,
      "metadata": {
        "colab": {
          "base_uri": "https://localhost:8080/"
        },
        "id": "4l3GUiRWvVru",
        "outputId": "a5e86497-4ffa-4588-f43d-df7d4a81b4d7"
      },
      "outputs": [
        {
          "output_type": "execute_result",
          "data": {
            "text/plain": [
              "(Array(2.3068202, dtype=float32), Array(0.09992038, dtype=float32))"
            ]
          },
          "metadata": {},
          "execution_count": 14
        }
      ],
      "source": [
        "evaluate(model, testloader)"
      ]
    },
    {
      "cell_type": "code",
      "execution_count": 15,
      "metadata": {
        "id": "mkftuLSZvXfq"
      },
      "outputs": [],
      "source": [
        "optim = optax.adamw(LEARNING_RATE)"
      ]
    },
    {
      "cell_type": "code",
      "execution_count": 16,
      "metadata": {
        "id": "GuGTxO-VgaOj"
      },
      "outputs": [],
      "source": [
        "from dataclasses import dataclass\n",
        "\n",
        "@dataclass\n",
        "class RunData:\n",
        "    step: int\n",
        "    train_loss: float\n",
        "    test_loss: float\n",
        "    test_accuracy: float\n",
        "\n",
        "def train(\n",
        "    model: CNN,\n",
        "    trainloader: torch.utils.data.DataLoader,\n",
        "    testloader: torch.utils.data.DataLoader,\n",
        "    optim: optax.GradientTransformation,\n",
        "    steps: int,\n",
        "    print_every: int,\n",
        ") -> CNN:\n",
        "    # Just like earlier: It only makes sense to train the arrays in our model,\n",
        "    # so filter out everything else.\n",
        "    opt_state = optim.init(eqx.filter(model, eqx.is_array))\n",
        "\n",
        "    # Always wrap everything -- computing gradients, running the optimiser, updating\n",
        "    # the model -- into a single JIT region. This ensures things run as fast as\n",
        "    # possible.\n",
        "    @eqx.filter_jit\n",
        "    def make_step(\n",
        "        model: CNN,\n",
        "        opt_state: PyTree,\n",
        "        x: Float[Array, \"batch 1 28 28\"],\n",
        "        y: Int[Array, \" batch\"],\n",
        "    ):\n",
        "        loss_value, grads = eqx.filter_value_and_grad(loss)(model, x, y)\n",
        "        updates, opt_state = optim.update(grads, opt_state, model)\n",
        "        model = eqx.apply_updates(model, updates)\n",
        "        return model, opt_state, loss_value\n",
        "\n",
        "    # Loop over our training dataset as many times as we need.\n",
        "    def infinite_trainloader():\n",
        "        while True:\n",
        "            yield from trainloader\n",
        "\n",
        "    run_data = []\n",
        "    for step, (x, y) in zip(range(steps), infinite_trainloader()):\n",
        "        # PyTorch dataloaders give PyTorch tensors by default,\n",
        "        # so convert them to NumPy arrays.\n",
        "        x = x.numpy()\n",
        "        y = y.numpy()\n",
        "        model, opt_state, train_loss = make_step(model, opt_state, x, y)\n",
        "\n",
        "        if (step % print_every) == 0 or (step == steps - 1):\n",
        "            test_loss, test_accuracy = evaluate(model, testloader)\n",
        "            print(\n",
        "                f\"{step=}, train_loss={train_loss.item()}, \"\n",
        "                f\"test_loss={test_loss.item()}, test_accuracy={test_accuracy.item()}\"\n",
        "            )\n",
        "            run_data +=  [RunData(step=step,\n",
        "                                  train_loss=train_loss.item(),\n",
        "                                  test_loss=test_loss.item(),\n",
        "                                  test_accuracy=test_accuracy.item())]\n",
        "\n",
        "\n",
        "    return model, run_data"
      ]
    },
    {
      "cell_type": "code",
      "execution_count": 17,
      "metadata": {
        "colab": {
          "base_uri": "https://localhost:8080/"
        },
        "id": "Z5LLiQItvohz",
        "outputId": "e59e4931-82d0-4f26-8d8b-6b8e80187b45"
      },
      "outputs": [
        {
          "output_type": "stream",
          "name": "stdout",
          "text": [
            "step=230, train_loss=1.5627658367156982, test_loss=1.5485100746154785, test_accuracy=0.431329607963562\n",
            "step=240, train_loss=1.8047233819961548, test_loss=1.5011097192764282, test_accuracy=0.46516719460487366\n",
            "step=250, train_loss=1.7322763204574585, test_loss=1.4762375354766846, test_accuracy=0.47143709659576416\n",
            "step=260, train_loss=1.3504961729049683, test_loss=1.477417230606079, test_accuracy=0.4773089289665222\n",
            "step=270, train_loss=1.5455098152160645, test_loss=1.469976544380188, test_accuracy=0.4675557315349579\n",
            "step=280, train_loss=1.4072723388671875, test_loss=1.4552741050720215, test_accuracy=0.48069268465042114\n",
            "step=290, train_loss=1.333311915397644, test_loss=1.434658169746399, test_accuracy=0.4844745099544525\n",
            "step=299, train_loss=1.50449800491333, test_loss=1.4245104789733887, test_accuracy=0.49104300141334534\n"
          ]
        }
      ],
      "source": [
        "model, run_data = train(model, trainloader, testloader, optim, STEPS, PRINT_EVERY)"
      ]
    },
    {
      "cell_type": "code",
      "source": [
        "# jax.grad(model)(x)\n",
        "eqx.filter_value_and_grad(loss)(model, dummy_x, dummy_y)"
      ],
      "metadata": {
        "colab": {
          "base_uri": "https://localhost:8080/"
        },
        "id": "LRS7DAIt2Osm",
        "outputId": "c27fde1b-551a-4f7f-83e2-13be58ac67c2"
      },
      "execution_count": 18,
      "outputs": [
        {
          "output_type": "execute_result",
          "data": {
            "text/plain": [
              "(Array(1.4141067, dtype=float32),\n",
              " CNN(\n",
              "   layers=[\n",
              "     Conv2d(\n",
              "       num_spatial_dims=2,\n",
              "       weight=f32[16,3,4,4],\n",
              "       bias=f32[16,1,1],\n",
              "       in_channels=3,\n",
              "       out_channels=16,\n",
              "       kernel_size=(4, 4),\n",
              "       stride=(1, 1),\n",
              "       padding=((0, 0), (0, 0)),\n",
              "       dilation=(1, 1),\n",
              "       groups=1,\n",
              "       use_bias=True\n",
              "     ),\n",
              "     MaxPool2d(\n",
              "       init=None,\n",
              "       operation=None,\n",
              "       num_spatial_dims=2,\n",
              "       kernel_size=(2, 2),\n",
              "       stride=(1, 1),\n",
              "       padding=((0, 0), (0, 0)),\n",
              "       use_ceil=False\n",
              "     ),\n",
              "     None,\n",
              "     Conv2d(\n",
              "       num_spatial_dims=2,\n",
              "       weight=f32[32,16,4,4],\n",
              "       bias=f32[32,1,1],\n",
              "       in_channels=16,\n",
              "       out_channels=32,\n",
              "       kernel_size=(4, 4),\n",
              "       stride=(1, 1),\n",
              "       padding=((0, 0), (0, 0)),\n",
              "       dilation=(1, 1),\n",
              "       groups=1,\n",
              "       use_bias=True\n",
              "     ),\n",
              "     MaxPool2d(\n",
              "       init=None,\n",
              "       operation=None,\n",
              "       num_spatial_dims=2,\n",
              "       kernel_size=(2, 2),\n",
              "       stride=(1, 1),\n",
              "       padding=((0, 0), (0, 0)),\n",
              "       use_ceil=False\n",
              "     ),\n",
              "     None,\n",
              "     None,\n",
              "     Linear(\n",
              "       weight=f32[64,18432],\n",
              "       bias=f32[64],\n",
              "       in_features=18432,\n",
              "       out_features=64,\n",
              "       use_bias=True\n",
              "     ),\n",
              "     None,\n",
              "     Linear(\n",
              "       weight=f32[10,64],\n",
              "       bias=f32[10],\n",
              "       in_features=64,\n",
              "       out_features=10,\n",
              "       use_bias=True\n",
              "     ),\n",
              "     None\n",
              "   ]\n",
              " ))"
            ]
          },
          "metadata": {},
          "execution_count": 18
        }
      ]
    },
    {
      "cell_type": "code",
      "execution_count": 19,
      "metadata": {
        "id": "ZAT21Nedhvyr",
        "colab": {
          "base_uri": "https://localhost:8080/",
          "height": 448
        },
        "outputId": "d3b6bc6b-fa64-460f-97ee-58662c9453c1"
      },
      "outputs": [
        {
          "output_type": "execute_result",
          "data": {
            "text/plain": [
              "[<matplotlib.lines.Line2D at 0x7a7f1dcbef50>]"
            ]
          },
          "metadata": {},
          "execution_count": 19
        },
        {
          "output_type": "display_data",
          "data": {
            "text/plain": [
              "<Figure size 640x480 with 1 Axes>"
            ],
            "image/png": "[encoded data removed]"
          },
          "metadata": {}
        }
      ],
      "source": [
        "import matplotlib.pyplot as plt\n",
        "steps         = [x.step for x in run_data]\n",
        "test_accuracy = [x.test_accuracy for x in run_data]\n",
        "\n",
        "plt.plot(steps, test_accuracy)"
      ]
    },
    {
      "cell_type": "code",
      "execution_count": 19,
      "metadata": {
        "id": "aGaLZwdRknAQ"
      },
      "outputs": [],
      "source": []
    }
  ],
  "metadata": {
    "colab": {
      "provenance": []
    },
    "kernelspec": {
      "display_name": "Python 3",
      "name": "python3"
    },
    "language_info": {
      "name": "python"
    }
  },
  "nbformat": 4,
  "nbformat_minor": 0
}