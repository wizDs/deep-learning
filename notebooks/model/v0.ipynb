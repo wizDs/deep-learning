{
  "nbformat": 4,
  "nbformat_minor": 0,
  "metadata": {
    "colab": {
      "provenance": []
    },
    "kernelspec": {
      "name": "python3",
      "display_name": "Python 3"
    },
    "language_info": {
      "name": "python"
    }
  },
  "cells": [
    {
      "cell_type": "code",
      "source": [
        "!pip install jaxtyping equinox"
      ],
      "metadata": {
        "colab": {
          "base_uri": "https://localhost:8080/"
        },
        "id": "Nkpq1r4rdivB",
        "outputId": "15cfd03c-5f5f-4f1e-fdfe-ac5d5ad3a122"
      },
      "execution_count": null,
      "outputs": [
        {
          "output_type": "stream",
          "name": "stdout",
          "text": [
            "Requirement already satisfied: jaxtyping in /usr/local/lib/python3.10/dist-packages (0.2.23)\n",
            "Requirement already satisfied: equinox in /usr/local/lib/python3.10/dist-packages (0.11.1)\n",
            "Requirement already satisfied: numpy>=1.20.0 in /usr/local/lib/python3.10/dist-packages (from jaxtyping) (1.23.5)\n",
            "Requirement already satisfied: typeguard<3,>=2.13.3 in /usr/local/lib/python3.10/dist-packages (from jaxtyping) (2.13.3)\n",
            "Requirement already satisfied: typing-extensions>=3.7.4.1 in /usr/local/lib/python3.10/dist-packages (from jaxtyping) (4.5.0)\n",
            "Requirement already satisfied: jax>=0.4.13 in /usr/local/lib/python3.10/dist-packages (from equinox) (0.4.16)\n",
            "Requirement already satisfied: ml-dtypes>=0.2.0 in /usr/local/lib/python3.10/dist-packages (from jax>=0.4.13->equinox) (0.2.0)\n",
            "Requirement already satisfied: opt-einsum in /usr/local/lib/python3.10/dist-packages (from jax>=0.4.13->equinox) (3.3.0)\n",
            "Requirement already satisfied: scipy>=1.7 in /usr/local/lib/python3.10/dist-packages (from jax>=0.4.13->equinox) (1.11.3)\n"
          ]
        }
      ]
    },
    {
      "cell_type": "code",
      "execution_count": null,
      "metadata": {
        "id": "B14rv-ZCdOVZ"
      },
      "outputs": [],
      "source": [
        "import jax\n",
        "import jax.numpy as jnp\n",
        "import optax  # https://github.com/deepmind/optax\n",
        "import torch  # https://pytorch.org\n",
        "import torchvision  # https://pytorch.org\n",
        "from jaxtyping import Array, Float, Int, PyTree  # https://github.com/google/jaxtyping\n",
        "\n",
        "import equinox as eqx"
      ]
    },
    {
      "cell_type": "code",
      "source": [
        "# Hyperparameters\n",
        "\n",
        "BATCH_SIZE = 64\n",
        "LEARNING_RATE = 3e-4\n",
        "STEPS = 300\n",
        "PRINT_EVERY = 30\n",
        "SEED = 5678\n",
        "\n",
        "key = jax.random.PRNGKey(SEED)"
      ],
      "metadata": {
        "colab": {
          "base_uri": "https://localhost:8080/"
        },
        "id": "b1TF8daVdsLA",
        "outputId": "e1771765-d4d8-49f0-c9ea-69c40bc30d41"
      },
      "execution_count": null,
      "outputs": [
        {
          "output_type": "stream",
          "name": "stderr",
          "text": [
            "WARNING:jax._src.xla_bridge:No GPU/TPU found, falling back to CPU. (Set TF_CPP_MIN_LOG_LEVEL=0 and rerun for more info.)\n"
          ]
        }
      ]
    },
    {
      "cell_type": "code",
      "source": [
        "normalise_data = torchvision.transforms.Compose(\n",
        "    [\n",
        "        torchvision.transforms.ToTensor(),\n",
        "        torchvision.transforms.Normalize((0.5,), (0.5,)),\n",
        "    ]\n",
        ")\n",
        "train_dataset = torchvision.datasets.MNIST(\n",
        "    \"MNIST\",\n",
        "    train=True,\n",
        "    download=True,\n",
        "    transform=normalise_data,\n",
        ")\n",
        "test_dataset = torchvision.datasets.MNIST(\n",
        "    \"MNIST\",\n",
        "    train=False,\n",
        "    download=True,\n",
        "    transform=normalise_data,\n",
        ")\n",
        "trainloader = torch.utils.data.DataLoader(\n",
        "    train_dataset, batch_size=BATCH_SIZE, shuffle=True\n",
        ")\n",
        "testloader = torch.utils.data.DataLoader(\n",
        "    test_dataset, batch_size=BATCH_SIZE, shuffle=True\n",
        ")"
      ],
      "metadata": {
        "id": "SxZXYiZFd1fw"
      },
      "execution_count": null,
      "outputs": []
    },
    {
      "cell_type": "code",
      "source": [
        "import pandas as pd\n",
        "data  = [(x.numpy()[0], y) for x, y in iter(train_dataset)]\n",
        "df    = pd.DataFrame(data, columns=['features', 'labels'])\n",
        "df"
      ],
      "metadata": {
        "colab": {
          "base_uri": "https://localhost:8080/",
          "height": 424
        },
        "id": "4GFhtlxufqAO",
        "outputId": "89413f0d-5e63-4562-cdfc-2206a189e221"
      },
      "execution_count": null,
      "outputs": [
        {
          "output_type": "execute_result",
          "data": {
            "text/plain": [
              "                                                features  labels\n",
              "0      [[-1.0, -1.0, -1.0, -1.0, -1.0, -1.0, -1.0, -1...       5\n",
              "1      [[-1.0, -1.0, -1.0, -1.0, -1.0, -1.0, -1.0, -1...       0\n",
              "2      [[-1.0, -1.0, -1.0, -1.0, -1.0, -1.0, -1.0, -1...       4\n",
              "3      [[-1.0, -1.0, -1.0, -1.0, -1.0, -1.0, -1.0, -1...       1\n",
              "4      [[-1.0, -1.0, -1.0, -1.0, -1.0, -1.0, -1.0, -1...       9\n",
              "...                                                  ...     ...\n",
              "59995  [[-1.0, -1.0, -1.0, -1.0, -1.0, -1.0, -1.0, -1...       8\n",
              "59996  [[-1.0, -1.0, -1.0, -1.0, -1.0, -1.0, -1.0, -1...       3\n",
              "59997  [[-1.0, -1.0, -1.0, -1.0, -1.0, -1.0, -1.0, -1...       5\n",
              "59998  [[-1.0, -1.0, -1.0, -1.0, -1.0, -1.0, -1.0, -1...       6\n",
              "59999  [[-1.0, -1.0, -1.0, -1.0, -1.0, -1.0, -1.0, -1...       8\n",
              "\n",
              "[60000 rows x 2 columns]"
            ],
            "text/html": [
              "\n",
              "  <div id=\"df-8bdc49aa-4d54-4a28-bca3-a512145dddd5\" class=\"colab-df-container\">\n",
              "    <div>\n",
              "<style scoped>\n",
              "    .dataframe tbody tr th:only-of-type {\n",
              "        vertical-align: middle;\n",
              "    }\n",
              "\n",
              "    .dataframe tbody tr th {\n",
              "        vertical-align: top;\n",
              "    }\n",
              "\n",
              "    .dataframe thead th {\n",
              "        text-align: right;\n",
              "    }\n",
              "</style>\n",
              "<table border=\"1\" class=\"dataframe\">\n",
              "  <thead>\n",
              "    <tr style=\"text-align: right;\">\n",
              "      <th></th>\n",
              "      <th>features</th>\n",
              "      <th>labels</th>\n",
              "    </tr>\n",
              "  </thead>\n",
              "  <tbody>\n",
              "    <tr>\n",
              "      <th>0</th>\n",
              "      <td>[[-1.0, -1.0, -1.0, -1.0, -1.0, -1.0, -1.0, -1...</td>\n",
              "      <td>5</td>\n",
              "    </tr>\n",
              "    <tr>\n",
              "      <th>1</th>\n",
              "      <td>[[-1.0, -1.0, -1.0, -1.0, -1.0, -1.0, -1.0, -1...</td>\n",
              "      <td>0</td>\n",
              "    </tr>\n",
              "    <tr>\n",
              "      <th>2</th>\n",
              "      <td>[[-1.0, -1.0, -1.0, -1.0, -1.0, -1.0, -1.0, -1...</td>\n",
              "      <td>4</td>\n",
              "    </tr>\n",
              "    <tr>\n",
              "      <th>3</th>\n",
              "      <td>[[-1.0, -1.0, -1.0, -1.0, -1.0, -1.0, -1.0, -1...</td>\n",
              "      <td>1</td>\n",
              "    </tr>\n",
              "    <tr>\n",
              "      <th>4</th>\n",
              "      <td>[[-1.0, -1.0, -1.0, -1.0, -1.0, -1.0, -1.0, -1...</td>\n",
              "      <td>9</td>\n",
              "    </tr>\n",
              "    <tr>\n",
              "      <th>...</th>\n",
              "      <td>...</td>\n",
              "      <td>...</td>\n",
              "    </tr>\n",
              "    <tr>\n",
              "      <th>59995</th>\n",
              "      <td>[[-1.0, -1.0, -1.0, -1.0, -1.0, -1.0, -1.0, -1...</td>\n",
              "      <td>8</td>\n",
              "    </tr>\n",
              "    <tr>\n",
              "      <th>59996</th>\n",
              "      <td>[[-1.0, -1.0, -1.0, -1.0, -1.0, -1.0, -1.0, -1...</td>\n",
              "      <td>3</td>\n",
              "    </tr>\n",
              "    <tr>\n",
              "      <th>59997</th>\n",
              "      <td>[[-1.0, -1.0, -1.0, -1.0, -1.0, -1.0, -1.0, -1...</td>\n",
              "      <td>5</td>\n",
              "    </tr>\n",
              "    <tr>\n",
              "      <th>59998</th>\n",
              "      <td>[[-1.0, -1.0, -1.0, -1.0, -1.0, -1.0, -1.0, -1...</td>\n",
              "      <td>6</td>\n",
              "    </tr>\n",
              "    <tr>\n",
              "      <th>59999</th>\n",
              "      <td>[[-1.0, -1.0, -1.0, -1.0, -1.0, -1.0, -1.0, -1...</td>\n",
              "      <td>8</td>\n",
              "    </tr>\n",
              "  </tbody>\n",
              "</table>\n",
              "<p>60000 rows × 2 columns</p>\n",
              "</div>\n",
              "    <div class=\"colab-df-buttons\">\n",
              "\n",
              "  <div class=\"colab-df-container\">\n",
              "    <button class=\"colab-df-convert\" onclick=\"convertToInteractive('df-8bdc49aa-4d54-4a28-bca3-a512145dddd5')\"\n",
              "            title=\"Convert this dataframe to an interactive table.\"\n",
              "            style=\"display:none;\">\n",
              "\n",
              "  <svg xmlns=\"http://www.w3.org/2000/svg\" height=\"24px\" viewBox=\"0 -960 960 960\">\n",
              "    <path d=\"M120-120v-720h720v720H120Zm60-500h600v-160H180v160Zm220 220h160v-160H400v160Zm0 220h160v-160H400v160ZM180-400h160v-160H180v160Zm440 0h160v-160H620v160ZM180-180h160v-160H180v160Zm440 0h160v-160H620v160Z\"/>\n",
              "  </svg>\n",
              "    </button>\n",
              "\n",
              "  <style>\n",
              "    .colab-df-container {\n",
              "      display:flex;\n",
              "      gap: 12px;\n",
              "    }\n",
              "\n",
              "    .colab-df-convert {\n",
              "      background-color: #E8F0FE;\n",
              "      border: none;\n",
              "      border-radius: 50%;\n",
              "      cursor: pointer;\n",
              "      display: none;\n",
              "      fill: #1967D2;\n",
              "      height: 32px;\n",
              "      padding: 0 0 0 0;\n",
              "      width: 32px;\n",
              "    }\n",
              "\n",
              "    .colab-df-convert:hover {\n",
              "      background-color: #E2EBFA;\n",
              "      box-shadow: 0px 1px 2px rgba(60, 64, 67, 0.3), 0px 1px 3px 1px rgba(60, 64, 67, 0.15);\n",
              "      fill: #174EA6;\n",
              "    }\n",
              "\n",
              "    .colab-df-buttons div {\n",
              "      margin-bottom: 4px;\n",
              "    }\n",
              "\n",
              "    [theme=dark] .colab-df-convert {\n",
              "      background-color: #3B4455;\n",
              "      fill: #D2E3FC;\n",
              "    }\n",
              "\n",
              "    [theme=dark] .colab-df-convert:hover {\n",
              "      background-color: #434B5C;\n",
              "      box-shadow: 0px 1px 3px 1px rgba(0, 0, 0, 0.15);\n",
              "      filter: drop-shadow(0px 1px 2px rgba(0, 0, 0, 0.3));\n",
              "      fill: #FFFFFF;\n",
              "    }\n",
              "  </style>\n",
              "\n",
              "    <script>\n",
              "      const buttonEl =\n",
              "        document.querySelector('#df-8bdc49aa-4d54-4a28-bca3-a512145dddd5 button.colab-df-convert');\n",
              "      buttonEl.style.display =\n",
              "        google.colab.kernel.accessAllowed ? 'block' : 'none';\n",
              "\n",
              "      async function convertToInteractive(key) {\n",
              "        const element = document.querySelector('#df-8bdc49aa-4d54-4a28-bca3-a512145dddd5');\n",
              "        const dataTable =\n",
              "          await google.colab.kernel.invokeFunction('convertToInteractive',\n",
              "                                                    [key], {});\n",
              "        if (!dataTable) return;\n",
              "\n",
              "        const docLinkHtml = 'Like what you see? Visit the ' +\n",
              "          '<a target=\"_blank\" href=https://colab.research.google.com/notebooks/data_table.ipynb>data table notebook</a>'\n",
              "          + ' to learn more about interactive tables.';\n",
              "        element.innerHTML = '';\n",
              "        dataTable['output_type'] = 'display_data';\n",
              "        await google.colab.output.renderOutput(dataTable, element);\n",
              "        const docLink = document.createElement('div');\n",
              "        docLink.innerHTML = docLinkHtml;\n",
              "        element.appendChild(docLink);\n",
              "      }\n",
              "    </script>\n",
              "  </div>\n",
              "\n",
              "\n",
              "<div id=\"df-8cfa47f0-dee1-4dbb-8d91-34d0da57c894\">\n",
              "  <button class=\"colab-df-quickchart\" onclick=\"quickchart('df-8cfa47f0-dee1-4dbb-8d91-34d0da57c894')\"\n",
              "            title=\"Suggest charts.\"\n",
              "            style=\"display:none;\">\n",
              "\n",
              "<svg xmlns=\"http://www.w3.org/2000/svg\" height=\"24px\"viewBox=\"0 0 24 24\"\n",
              "     width=\"24px\">\n",
              "    <g>\n",
              "        <path d=\"M19 3H5c-1.1 0-2 .9-2 2v14c0 1.1.9 2 2 2h14c1.1 0 2-.9 2-2V5c0-1.1-.9-2-2-2zM9 17H7v-7h2v7zm4 0h-2V7h2v10zm4 0h-2v-4h2v4z\"/>\n",
              "    </g>\n",
              "</svg>\n",
              "  </button>\n",
              "\n",
              "<style>\n",
              "  .colab-df-quickchart {\n",
              "      --bg-color: #E8F0FE;\n",
              "      --fill-color: #1967D2;\n",
              "      --hover-bg-color: #E2EBFA;\n",
              "      --hover-fill-color: #174EA6;\n",
              "      --disabled-fill-color: #AAA;\n",
              "      --disabled-bg-color: #DDD;\n",
              "  }\n",
              "\n",
              "  [theme=dark] .colab-df-quickchart {\n",
              "      --bg-color: #3B4455;\n",
              "      --fill-color: #D2E3FC;\n",
              "      --hover-bg-color: #434B5C;\n",
              "      --hover-fill-color: #FFFFFF;\n",
              "      --disabled-bg-color: #3B4455;\n",
              "      --disabled-fill-color: #666;\n",
              "  }\n",
              "\n",
              "  .colab-df-quickchart {\n",
              "    background-color: var(--bg-color);\n",
              "    border: none;\n",
              "    border-radius: 50%;\n",
              "    cursor: pointer;\n",
              "    display: none;\n",
              "    fill: var(--fill-color);\n",
              "    height: 32px;\n",
              "    padding: 0;\n",
              "    width: 32px;\n",
              "  }\n",
              "\n",
              "  .colab-df-quickchart:hover {\n",
              "    background-color: var(--hover-bg-color);\n",
              "    box-shadow: 0 1px 2px rgba(60, 64, 67, 0.3), 0 1px 3px 1px rgba(60, 64, 67, 0.15);\n",
              "    fill: var(--button-hover-fill-color);\n",
              "  }\n",
              "\n",
              "  .colab-df-quickchart-complete:disabled,\n",
              "  .colab-df-quickchart-complete:disabled:hover {\n",
              "    background-color: var(--disabled-bg-color);\n",
              "    fill: var(--disabled-fill-color);\n",
              "    box-shadow: none;\n",
              "  }\n",
              "\n",
              "  .colab-df-spinner {\n",
              "    border: 2px solid var(--fill-color);\n",
              "    border-color: transparent;\n",
              "    border-bottom-color: var(--fill-color);\n",
              "    animation:\n",
              "      spin 1s steps(1) infinite;\n",
              "  }\n",
              "\n",
              "  @keyframes spin {\n",
              "    0% {\n",
              "      border-color: transparent;\n",
              "      border-bottom-color: var(--fill-color);\n",
              "      border-left-color: var(--fill-color);\n",
              "    }\n",
              "    20% {\n",
              "      border-color: transparent;\n",
              "      border-left-color: var(--fill-color);\n",
              "      border-top-color: var(--fill-color);\n",
              "    }\n",
              "    30% {\n",
              "      border-color: transparent;\n",
              "      border-left-color: var(--fill-color);\n",
              "      border-top-color: var(--fill-color);\n",
              "      border-right-color: var(--fill-color);\n",
              "    }\n",
              "    40% {\n",
              "      border-color: transparent;\n",
              "      border-right-color: var(--fill-color);\n",
              "      border-top-color: var(--fill-color);\n",
              "    }\n",
              "    60% {\n",
              "      border-color: transparent;\n",
              "      border-right-color: var(--fill-color);\n",
              "    }\n",
              "    80% {\n",
              "      border-color: transparent;\n",
              "      border-right-color: var(--fill-color);\n",
              "      border-bottom-color: var(--fill-color);\n",
              "    }\n",
              "    90% {\n",
              "      border-color: transparent;\n",
              "      border-bottom-color: var(--fill-color);\n",
              "    }\n",
              "  }\n",
              "</style>\n",
              "\n",
              "  <script>\n",
              "    async function quickchart(key) {\n",
              "      const quickchartButtonEl =\n",
              "        document.querySelector('#' + key + ' button');\n",
              "      quickchartButtonEl.disabled = true;  // To prevent multiple clicks.\n",
              "      quickchartButtonEl.classList.add('colab-df-spinner');\n",
              "      try {\n",
              "        const charts = await google.colab.kernel.invokeFunction(\n",
              "            'suggestCharts', [key], {});\n",
              "      } catch (error) {\n",
              "        console.error('Error during call to suggestCharts:', error);\n",
              "      }\n",
              "      quickchartButtonEl.classList.remove('colab-df-spinner');\n",
              "      quickchartButtonEl.classList.add('colab-df-quickchart-complete');\n",
              "    }\n",
              "    (() => {\n",
              "      let quickchartButtonEl =\n",
              "        document.querySelector('#df-8cfa47f0-dee1-4dbb-8d91-34d0da57c894 button');\n",
              "      quickchartButtonEl.style.display =\n",
              "        google.colab.kernel.accessAllowed ? 'block' : 'none';\n",
              "    })();\n",
              "  </script>\n",
              "</div>\n",
              "    </div>\n",
              "  </div>\n"
            ]
          },
          "metadata": {},
          "execution_count": 5
        }
      ]
    },
    {
      "cell_type": "code",
      "source": [
        "df['features'][0]"
      ],
      "metadata": {
        "colab": {
          "base_uri": "https://localhost:8080/"
        },
        "id": "kaqR7_4cf1ue",
        "outputId": "f93e88b7-6e8d-46c4-eef3-d095179d5cec"
      },
      "execution_count": null,
      "outputs": [
        {
          "output_type": "execute_result",
          "data": {
            "text/plain": [
              "array([[-1.        , -1.        , -1.        , -1.        , -1.        ,\n",
              "        -1.        , -1.        , -1.        , -1.        , -1.        ,\n",
              "        -1.        , -1.        , -1.        , -1.        , -1.        ,\n",
              "        -1.        , -1.        , -1.        , -1.        , -1.        ,\n",
              "        -1.        , -1.        , -1.        , -1.        , -1.        ,\n",
              "        -1.        , -1.        , -1.        ],\n",
              "       [-1.        , -1.        , -1.        , -1.        , -1.        ,\n",
              "        -1.        , -1.        , -1.        , -1.        , -1.        ,\n",
              "        -1.        , -1.        , -1.        , -1.        , -1.        ,\n",
              "        -1.        , -1.        , -1.        , -1.        , -1.        ,\n",
              "        -1.        , -1.        , -1.        , -1.        , -1.        ,\n",
              "        -1.        , -1.        , -1.        ],\n",
              "       [-1.        , -1.        , -1.        , -1.        , -1.        ,\n",
              "        -1.        , -1.        , -1.        , -1.        , -1.        ,\n",
              "        -1.        , -1.        , -1.        , -1.        , -1.        ,\n",
              "        -1.        , -1.        , -1.        , -1.        , -1.        ,\n",
              "        -1.        , -1.        , -1.        , -1.        , -1.        ,\n",
              "        -1.        , -1.        , -1.        ],\n",
              "       [-1.        , -1.        , -1.        , -1.        , -1.        ,\n",
              "        -1.        , -1.        , -1.        , -1.        , -1.        ,\n",
              "        -1.        , -1.        , -1.        , -1.        , -1.        ,\n",
              "        -1.        , -1.        , -1.        , -1.        , -1.        ,\n",
              "        -1.        , -1.        , -1.        , -1.        , -1.        ,\n",
              "        -1.        , -1.        , -1.        ],\n",
              "       [-1.        , -1.        , -1.        , -1.        , -1.        ,\n",
              "        -1.        , -1.        , -1.        , -1.        , -1.        ,\n",
              "        -1.        , -1.        , -1.        , -1.        , -1.        ,\n",
              "        -1.        , -1.        , -1.        , -1.        , -1.        ,\n",
              "        -1.        , -1.        , -1.        , -1.        , -1.        ,\n",
              "        -1.        , -1.        , -1.        ],\n",
              "       [-1.        , -1.        , -1.        , -1.        , -1.        ,\n",
              "        -1.        , -1.        , -1.        , -1.        , -1.        ,\n",
              "        -1.        , -1.        , -0.9764706 , -0.85882354, -0.85882354,\n",
              "        -0.85882354, -0.01176471,  0.06666672,  0.37254906, -0.79607844,\n",
              "         0.30196083,  1.        ,  0.9372549 , -0.00392157, -1.        ,\n",
              "        -1.        , -1.        , -1.        ],\n",
              "       [-1.        , -1.        , -1.        , -1.        , -1.        ,\n",
              "        -1.        , -1.        , -1.        , -0.7647059 , -0.7176471 ,\n",
              "        -0.26274508,  0.20784318,  0.33333337,  0.9843137 ,  0.9843137 ,\n",
              "         0.9843137 ,  0.9843137 ,  0.9843137 ,  0.7647059 ,  0.34901965,\n",
              "         0.9843137 ,  0.8980392 ,  0.5294118 , -0.4980392 , -1.        ,\n",
              "        -1.        , -1.        , -1.        ],\n",
              "       [-1.        , -1.        , -1.        , -1.        , -1.        ,\n",
              "        -1.        , -1.        , -0.6156863 ,  0.8666667 ,  0.9843137 ,\n",
              "         0.9843137 ,  0.9843137 ,  0.9843137 ,  0.9843137 ,  0.9843137 ,\n",
              "         0.9843137 ,  0.9843137 ,  0.96862745, -0.27058822, -0.35686272,\n",
              "        -0.35686272, -0.56078434, -0.69411767, -1.        , -1.        ,\n",
              "        -1.        , -1.        , -1.        ],\n",
              "       [-1.        , -1.        , -1.        , -1.        , -1.        ,\n",
              "        -1.        , -1.        , -0.85882354,  0.7176471 ,  0.9843137 ,\n",
              "         0.9843137 ,  0.9843137 ,  0.9843137 ,  0.9843137 ,  0.5529412 ,\n",
              "         0.427451  ,  0.9372549 ,  0.8901961 , -1.        , -1.        ,\n",
              "        -1.        , -1.        , -1.        , -1.        , -1.        ,\n",
              "        -1.        , -1.        , -1.        ],\n",
              "       [-1.        , -1.        , -1.        , -1.        , -1.        ,\n",
              "        -1.        , -1.        , -1.        , -0.372549  ,  0.22352946,\n",
              "        -0.1607843 ,  0.9843137 ,  0.9843137 ,  0.60784316, -0.9137255 ,\n",
              "        -1.        , -0.6627451 ,  0.20784318, -1.        , -1.        ,\n",
              "        -1.        , -1.        , -1.        , -1.        , -1.        ,\n",
              "        -1.        , -1.        , -1.        ],\n",
              "       [-1.        , -1.        , -1.        , -1.        , -1.        ,\n",
              "        -1.        , -1.        , -1.        , -1.        , -0.8901961 ,\n",
              "        -0.99215686,  0.20784318,  0.9843137 , -0.29411763, -1.        ,\n",
              "        -1.        , -1.        , -1.        , -1.        , -1.        ,\n",
              "        -1.        , -1.        , -1.        , -1.        , -1.        ,\n",
              "        -1.        , -1.        , -1.        ],\n",
              "       [-1.        , -1.        , -1.        , -1.        , -1.        ,\n",
              "        -1.        , -1.        , -1.        , -1.        , -1.        ,\n",
              "        -1.        ,  0.09019613,  0.9843137 ,  0.4901961 , -0.9843137 ,\n",
              "        -1.        , -1.        , -1.        , -1.        , -1.        ,\n",
              "        -1.        , -1.        , -1.        , -1.        , -1.        ,\n",
              "        -1.        , -1.        , -1.        ],\n",
              "       [-1.        , -1.        , -1.        , -1.        , -1.        ,\n",
              "        -1.        , -1.        , -1.        , -1.        , -1.        ,\n",
              "        -1.        , -0.9137255 ,  0.4901961 ,  0.9843137 , -0.45098037,\n",
              "        -1.        , -1.        , -1.        , -1.        , -1.        ,\n",
              "        -1.        , -1.        , -1.        , -1.        , -1.        ,\n",
              "        -1.        , -1.        , -1.        ],\n",
              "       [-1.        , -1.        , -1.        , -1.        , -1.        ,\n",
              "        -1.        , -1.        , -1.        , -1.        , -1.        ,\n",
              "        -1.        , -1.        , -0.7254902 ,  0.8901961 ,  0.7647059 ,\n",
              "         0.254902  , -0.15294117, -0.99215686, -1.        , -1.        ,\n",
              "        -1.        , -1.        , -1.        , -1.        , -1.        ,\n",
              "        -1.        , -1.        , -1.        ],\n",
              "       [-1.        , -1.        , -1.        , -1.        , -1.        ,\n",
              "        -1.        , -1.        , -1.        , -1.        , -1.        ,\n",
              "        -1.        , -1.        , -1.        , -0.36470586,  0.88235295,\n",
              "         0.9843137 ,  0.9843137 , -0.06666666, -0.8039216 , -1.        ,\n",
              "        -1.        , -1.        , -1.        , -1.        , -1.        ,\n",
              "        -1.        , -1.        , -1.        ],\n",
              "       [-1.        , -1.        , -1.        , -1.        , -1.        ,\n",
              "        -1.        , -1.        , -1.        , -1.        , -1.        ,\n",
              "        -1.        , -1.        , -1.        , -1.        , -0.64705884,\n",
              "         0.45882356,  0.9843137 ,  0.9843137 ,  0.17647064, -0.7882353 ,\n",
              "        -1.        , -1.        , -1.        , -1.        , -1.        ,\n",
              "        -1.        , -1.        , -1.        ],\n",
              "       [-1.        , -1.        , -1.        , -1.        , -1.        ,\n",
              "        -1.        , -1.        , -1.        , -1.        , -1.        ,\n",
              "        -1.        , -1.        , -1.        , -1.        , -1.        ,\n",
              "        -0.8745098 , -0.27058822,  0.9764706 ,  0.9843137 ,  0.4666667 ,\n",
              "        -1.        , -1.        , -1.        , -1.        , -1.        ,\n",
              "        -1.        , -1.        , -1.        ],\n",
              "       [-1.        , -1.        , -1.        , -1.        , -1.        ,\n",
              "        -1.        , -1.        , -1.        , -1.        , -1.        ,\n",
              "        -1.        , -1.        , -1.        , -1.        , -1.        ,\n",
              "        -1.        , -1.        ,  0.9529412 ,  0.9843137 ,  0.9529412 ,\n",
              "        -0.4980392 , -1.        , -1.        , -1.        , -1.        ,\n",
              "        -1.        , -1.        , -1.        ],\n",
              "       [-1.        , -1.        , -1.        , -1.        , -1.        ,\n",
              "        -1.        , -1.        , -1.        , -1.        , -1.        ,\n",
              "        -1.        , -1.        , -1.        , -1.        , -0.6392157 ,\n",
              "         0.0196079 ,  0.43529415,  0.9843137 ,  0.9843137 ,  0.62352943,\n",
              "        -0.9843137 , -1.        , -1.        , -1.        , -1.        ,\n",
              "        -1.        , -1.        , -1.        ],\n",
              "       [-1.        , -1.        , -1.        , -1.        , -1.        ,\n",
              "        -1.        , -1.        , -1.        , -1.        , -1.        ,\n",
              "        -1.        , -1.        , -0.69411767,  0.16078436,  0.79607844,\n",
              "         0.9843137 ,  0.9843137 ,  0.9843137 ,  0.9607843 ,  0.427451  ,\n",
              "        -1.        , -1.        , -1.        , -1.        , -1.        ,\n",
              "        -1.        , -1.        , -1.        ],\n",
              "       [-1.        , -1.        , -1.        , -1.        , -1.        ,\n",
              "        -1.        , -1.        , -1.        , -1.        , -1.        ,\n",
              "        -0.8117647 , -0.10588235,  0.73333335,  0.9843137 ,  0.9843137 ,\n",
              "         0.9843137 ,  0.9843137 ,  0.5764706 , -0.38823527, -1.        ,\n",
              "        -1.        , -1.        , -1.        , -1.        , -1.        ,\n",
              "        -1.        , -1.        , -1.        ],\n",
              "       [-1.        , -1.        , -1.        , -1.        , -1.        ,\n",
              "        -1.        , -1.        , -1.        , -0.81960785, -0.4823529 ,\n",
              "         0.67058825,  0.9843137 ,  0.9843137 ,  0.9843137 ,  0.9843137 ,\n",
              "         0.5529412 , -0.36470586, -0.9843137 , -1.        , -1.        ,\n",
              "        -1.        , -1.        , -1.        , -1.        , -1.        ,\n",
              "        -1.        , -1.        , -1.        ],\n",
              "       [-1.        , -1.        , -1.        , -1.        , -1.        ,\n",
              "        -1.        , -0.85882354,  0.3411765 ,  0.7176471 ,  0.9843137 ,\n",
              "         0.9843137 ,  0.9843137 ,  0.9843137 ,  0.5294118 , -0.372549  ,\n",
              "        -0.92941177, -1.        , -1.        , -1.        , -1.        ,\n",
              "        -1.        , -1.        , -1.        , -1.        , -1.        ,\n",
              "        -1.        , -1.        , -1.        ],\n",
              "       [-1.        , -1.        , -1.        , -1.        , -0.5686275 ,\n",
              "         0.34901965,  0.77254903,  0.9843137 ,  0.9843137 ,  0.9843137 ,\n",
              "         0.9843137 ,  0.9137255 ,  0.04313731, -0.9137255 , -1.        ,\n",
              "        -1.        , -1.        , -1.        , -1.        , -1.        ,\n",
              "        -1.        , -1.        , -1.        , -1.        , -1.        ,\n",
              "        -1.        , -1.        , -1.        ],\n",
              "       [-1.        , -1.        , -1.        , -1.        ,  0.06666672,\n",
              "         0.9843137 ,  0.9843137 ,  0.9843137 ,  0.6627451 ,  0.05882359,\n",
              "         0.03529418, -0.8745098 , -1.        , -1.        , -1.        ,\n",
              "        -1.        , -1.        , -1.        , -1.        , -1.        ,\n",
              "        -1.        , -1.        , -1.        , -1.        , -1.        ,\n",
              "        -1.        , -1.        , -1.        ],\n",
              "       [-1.        , -1.        , -1.        , -1.        , -1.        ,\n",
              "        -1.        , -1.        , -1.        , -1.        , -1.        ,\n",
              "        -1.        , -1.        , -1.        , -1.        , -1.        ,\n",
              "        -1.        , -1.        , -1.        , -1.        , -1.        ,\n",
              "        -1.        , -1.        , -1.        , -1.        , -1.        ,\n",
              "        -1.        , -1.        , -1.        ],\n",
              "       [-1.        , -1.        , -1.        , -1.        , -1.        ,\n",
              "        -1.        , -1.        , -1.        , -1.        , -1.        ,\n",
              "        -1.        , -1.        , -1.        , -1.        , -1.        ,\n",
              "        -1.        , -1.        , -1.        , -1.        , -1.        ,\n",
              "        -1.        , -1.        , -1.        , -1.        , -1.        ,\n",
              "        -1.        , -1.        , -1.        ],\n",
              "       [-1.        , -1.        , -1.        , -1.        , -1.        ,\n",
              "        -1.        , -1.        , -1.        , -1.        , -1.        ,\n",
              "        -1.        , -1.        , -1.        , -1.        , -1.        ,\n",
              "        -1.        , -1.        , -1.        , -1.        , -1.        ,\n",
              "        -1.        , -1.        , -1.        , -1.        , -1.        ,\n",
              "        -1.        , -1.        , -1.        ]], dtype=float32)"
            ]
          },
          "metadata": {},
          "execution_count": 6
        }
      ]
    },
    {
      "source": [
        "from matplotlib import pyplot as plt\n",
        "df['labels'].plot(kind='hist', bins=20, title='labels')\n",
        "plt.gca().spines[['top', 'right',]].set_visible(False)"
      ],
      "cell_type": "code",
      "metadata": {
        "colab": {
          "base_uri": "https://localhost:8080/",
          "height": 452
        },
        "id": "99-T5jq1iT69",
        "outputId": "1335b582-512b-4f22-f2e5-c35ea594a1b2"
      },
      "execution_count": null,
      "outputs": [
        {
          "output_type": "display_data",
          "data": {
            "text/plain": [
              "<Figure size 640x480 with 1 Axes>"
            ],
            "image/png": "[encoded data removed]"
          },
          "metadata": {}
        }
      ]
    },
    {
      "cell_type": "code",
      "source": [
        "# Checking our data a bit (by now, everyone knows what the MNIST dataset looks like)\n",
        "dummy_x, dummy_y = next(iter(trainloader))\n",
        "dummy_x = dummy_x.numpy()\n",
        "dummy_y = dummy_y.numpy()\n",
        "print(dummy_x.shape)  # 64x1x28x28\n",
        "print(dummy_y.shape)  # 64\n",
        "print(dummy_y)"
      ],
      "metadata": {
        "colab": {
          "base_uri": "https://localhost:8080/"
        },
        "id": "iSwW1eA_gjgF",
        "outputId": "3e9ee9e5-ef80-43fa-f7ea-5b304d0d2692"
      },
      "execution_count": null,
      "outputs": [
        {
          "output_type": "stream",
          "name": "stdout",
          "text": [
            "(64, 1, 28, 28)\n",
            "(64,)\n",
            "[0 2 2 4 5 4 1 0 5 5 2 3 8 1 3 0 5 5 1 2 1 7 6 5 6 1 4 3 1 9 8 3 9 8 3 6 6\n",
            " 8 2 3 3 3 5 4 5 4 1 5 5 4 8 4 7 8 2 6 7 8 0 9 0 3 1 4]\n"
          ]
        }
      ]
    },
    {
      "cell_type": "code",
      "source": [
        "class CNN(eqx.Module):\n",
        "    layers: list\n",
        "\n",
        "    def __init__(self, key):\n",
        "        key1, key2, key3, key4 = jax.random.split(key, 4)\n",
        "        # Standard CNN setup: convolutional layer, followed by flattening,\n",
        "        # with a small MLP on top.\n",
        "        self.layers = [\n",
        "            eqx.nn.Conv2d(1, 3, kernel_size=4, key=key1),\n",
        "            eqx.nn.MaxPool2d(kernel_size=2),\n",
        "            jax.nn.relu,\n",
        "            jnp.ravel,\n",
        "            eqx.nn.Linear(1728, 512, key=key2),\n",
        "            jax.nn.sigmoid,\n",
        "            eqx.nn.Linear(512, 64, key=key3),\n",
        "            jax.nn.relu,\n",
        "            eqx.nn.Linear(64, 10, key=key4),\n",
        "            jax.nn.log_softmax,\n",
        "        ]\n",
        "\n",
        "    def __call__(self, x: Float[Array, \"1 32 32\"]) -> Float[Array, \"10\"]:\n",
        "        for layer in self.layers:\n",
        "            x = layer(x)\n",
        "        return x\n",
        "\n",
        "\n",
        "key, subkey = jax.random.split(key, 2)\n",
        "model = CNN(subkey)"
      ],
      "metadata": {
        "id": "yTy-9s_pigYb"
      },
      "execution_count": null,
      "outputs": []
    },
    {
      "cell_type": "code",
      "source": [
        "print(model)"
      ],
      "metadata": {
        "colab": {
          "base_uri": "https://localhost:8080/"
        },
        "id": "9ZVeiF40mY8l",
        "outputId": "3154b1e5-82ec-4ef9-8339-dbc0d8694d5b"
      },
      "execution_count": null,
      "outputs": [
        {
          "output_type": "stream",
          "name": "stdout",
          "text": [
            "CNN(\n",
            "  layers=[\n",
            "    Conv2d(\n",
            "      num_spatial_dims=2,\n",
            "      weight=f32[3,1,4,4],\n",
            "      bias=f32[3,1,1],\n",
            "      in_channels=1,\n",
            "      out_channels=3,\n",
            "      kernel_size=(4, 4),\n",
            "      stride=(1, 1),\n",
            "      padding=((0, 0), (0, 0)),\n",
            "      dilation=(1, 1),\n",
            "      groups=1,\n",
            "      use_bias=True\n",
            "    ),\n",
            "    MaxPool2d(\n",
            "      init=-inf,\n",
            "      operation=<function max>,\n",
            "      num_spatial_dims=2,\n",
            "      kernel_size=(2, 2),\n",
            "      stride=(1, 1),\n",
            "      padding=((0, 0), (0, 0)),\n",
            "      use_ceil=False\n",
            "    ),\n",
            "    <wrapped function relu>,\n",
            "    <wrapped function ravel>,\n",
            "    Linear(\n",
            "      weight=f32[512,1728],\n",
            "      bias=f32[512],\n",
            "      in_features=1728,\n",
            "      out_features=512,\n",
            "      use_bias=True\n",
            "    ),\n",
            "    <wrapped function sigmoid>,\n",
            "    Linear(\n",
            "      weight=f32[64,512],\n",
            "      bias=f32[64],\n",
            "      in_features=512,\n",
            "      out_features=64,\n",
            "      use_bias=True\n",
            "    ),\n",
            "    <wrapped function relu>,\n",
            "    Linear(\n",
            "      weight=f32[10,64],\n",
            "      bias=f32[10],\n",
            "      in_features=64,\n",
            "      out_features=10,\n",
            "      use_bias=True\n",
            "    ),\n",
            "    <wrapped function log_softmax>\n",
            "  ]\n",
            ")\n"
          ]
        }
      ]
    },
    {
      "cell_type": "code",
      "source": [
        "def loss(\n",
        "    model: CNN, x: Float[Array, \"batch 1 28 28\"], y: Int[Array, \" batch\"]\n",
        ") -> Float[Array, \"\"]:\n",
        "    # Our input has the shape (BATCH_SIZE, 1, 28, 28), but our model operations on\n",
        "    # a single input input image of shape (1, 28, 28).\n",
        "    #\n",
        "    # Therefore, we have to use jax.vmap, which in this case maps our model over the\n",
        "    # leading (batch) axis.\n",
        "    pred_y = jax.vmap(model)(x)\n",
        "    return cross_entropy(y, pred_y)\n",
        "\n",
        "\n",
        "def cross_entropy(\n",
        "    y: Int[Array, \" batch\"], pred_y: Float[Array, \"batch 10\"]\n",
        ") -> Float[Array, \"\"]:\n",
        "    # y are the true targets, and should be integers 0-9.\n",
        "    # pred_y are the log-softmax'd predictions.\n",
        "    pred_y = jnp.take_along_axis(pred_y, jnp.expand_dims(y, 1), axis=1)\n",
        "    return -jnp.mean(pred_y)\n",
        "\n",
        "\n",
        "# Example loss\n",
        "loss_value = loss(model, dummy_x, dummy_y)\n",
        "print(loss_value.shape)  # scalar loss\n",
        "# Example inference\n",
        "output = jax.vmap(model)(dummy_x)\n",
        "print(output.shape)  # batch of predictions"
      ],
      "metadata": {
        "colab": {
          "base_uri": "https://localhost:8080/"
        },
        "id": "lmje2zH6mtiB",
        "outputId": "0e613022-f92f-40a2-8cd0-7f1f66f351ad"
      },
      "execution_count": null,
      "outputs": [
        {
          "output_type": "stream",
          "name": "stdout",
          "text": [
            "()\n",
            "(64, 10)\n"
          ]
        }
      ]
    },
    {
      "cell_type": "code",
      "source": [
        "# This will work!\n",
        "params, static = eqx.partition(model, eqx.is_array)\n",
        "\n",
        "\n",
        "def loss2(params, static, x, y):\n",
        "    model = eqx.combine(params, static)\n",
        "    return loss(model, x, y)\n",
        "\n",
        "\n",
        "loss_value, grads = jax.value_and_grad(loss2)(params, static, dummy_x, dummy_y)\n",
        "print(loss_value)"
      ],
      "metadata": {
        "colab": {
          "base_uri": "https://localhost:8080/"
        },
        "id": "Y7xDGYqlsIIe",
        "outputId": "a76ea300-bfbe-41e0-e1a2-5c844bbc8f69"
      },
      "execution_count": null,
      "outputs": [
        {
          "output_type": "stream",
          "name": "stdout",
          "text": [
            "2.285676\n"
          ]
        }
      ]
    },
    {
      "cell_type": "code",
      "source": [
        "# This is an error!\n",
        "jax.value_and_grad(loss)(model, dummy_x, dummy_y)"
      ],
      "metadata": {
        "colab": {
          "base_uri": "https://localhost:8080/",
          "height": 349
        },
        "id": "42vDQfUZvDJG",
        "outputId": "ed6a4acb-a2d2-4e09-a7a1-f781e91fa48f"
      },
      "execution_count": null,
      "outputs": [
        {
          "output_type": "error",
          "ename": "TypeError",
          "evalue": "ignored",
          "traceback": [
            "\u001b[0;31m---------------------------------------------------------------------------\u001b[0m",
            "\u001b[0;31mTypeError\u001b[0m                                 Traceback (most recent call last)",
            "\u001b[0;32m<ipython-input-13-334a3495e950>\u001b[0m in \u001b[0;36m<cell line: 2>\u001b[0;34m()\u001b[0m\n\u001b[1;32m      1\u001b[0m \u001b[0;31m# This is an error!\u001b[0m\u001b[0;34m\u001b[0m\u001b[0;34m\u001b[0m\u001b[0m\n\u001b[0;32m----> 2\u001b[0;31m \u001b[0mjax\u001b[0m\u001b[0;34m.\u001b[0m\u001b[0mvalue_and_grad\u001b[0m\u001b[0;34m(\u001b[0m\u001b[0mloss\u001b[0m\u001b[0;34m)\u001b[0m\u001b[0;34m(\u001b[0m\u001b[0mmodel\u001b[0m\u001b[0;34m,\u001b[0m \u001b[0mdummy_x\u001b[0m\u001b[0;34m,\u001b[0m \u001b[0mdummy_y\u001b[0m\u001b[0;34m)\u001b[0m\u001b[0;34m\u001b[0m\u001b[0;34m\u001b[0m\u001b[0m\n\u001b[0m",
            "    \u001b[0;31m[... skipping hidden 3 frame]\u001b[0m\n",
            "\u001b[0;32m/usr/local/lib/python3.10/dist-packages/jax/_src/dispatch.py\u001b[0m in \u001b[0;36mcheck_arg\u001b[0;34m(arg)\u001b[0m\n\u001b[1;32m    354\u001b[0m \u001b[0;32mdef\u001b[0m \u001b[0mcheck_arg\u001b[0m\u001b[0;34m(\u001b[0m\u001b[0marg\u001b[0m\u001b[0;34m:\u001b[0m \u001b[0mAny\u001b[0m\u001b[0;34m)\u001b[0m\u001b[0;34m:\u001b[0m\u001b[0;34m\u001b[0m\u001b[0;34m\u001b[0m\u001b[0m\n\u001b[1;32m    355\u001b[0m   \u001b[0;32mif\u001b[0m \u001b[0;32mnot\u001b[0m \u001b[0;34m(\u001b[0m\u001b[0misinstance\u001b[0m\u001b[0;34m(\u001b[0m\u001b[0marg\u001b[0m\u001b[0;34m,\u001b[0m \u001b[0mcore\u001b[0m\u001b[0;34m.\u001b[0m\u001b[0mTracer\u001b[0m\u001b[0;34m)\u001b[0m \u001b[0;32mor\u001b[0m \u001b[0mcore\u001b[0m\u001b[0;34m.\u001b[0m\u001b[0mvalid_jaxtype\u001b[0m\u001b[0;34m(\u001b[0m\u001b[0marg\u001b[0m\u001b[0;34m)\u001b[0m\u001b[0;34m)\u001b[0m\u001b[0;34m:\u001b[0m\u001b[0;34m\u001b[0m\u001b[0;34m\u001b[0m\u001b[0m\n\u001b[0;32m--> 356\u001b[0;31m     raise TypeError(f\"Argument '{arg}' of type {type(arg)} is not a valid \"\n\u001b[0m\u001b[1;32m    357\u001b[0m                     \"JAX type.\")\n\u001b[1;32m    358\u001b[0m \u001b[0;34m\u001b[0m\u001b[0m\n",
            "\u001b[0;31mTypeError\u001b[0m: Argument '<function max at 0x78d702e28790>' of type <class 'function'> is not a valid JAX type."
          ]
        }
      ]
    },
    {
      "cell_type": "code",
      "source": [
        "# This will work too!\n",
        "value, grads = eqx.filter_value_and_grad(loss)(model, dummy_x, dummy_y)\n",
        "print(value)"
      ],
      "metadata": {
        "colab": {
          "base_uri": "https://localhost:8080/"
        },
        "id": "sqwj9zQbvMdy",
        "outputId": "99401aeb-c74e-47de-f2fc-9b3cfe24bbee"
      },
      "execution_count": null,
      "outputs": [
        {
          "output_type": "stream",
          "name": "stdout",
          "text": [
            "2.285676\n"
          ]
        }
      ]
    },
    {
      "cell_type": "code",
      "source": [
        "loss = eqx.filter_jit(loss)  # JIT our loss function from earlier!\n",
        "\n",
        "\n",
        "@eqx.filter_jit\n",
        "def compute_accuracy(\n",
        "    model: CNN, x: Float[Array, \"batch 1 28 28\"], y: Int[Array, \" batch\"]\n",
        ") -> Float[Array, \"\"]:\n",
        "    \"\"\"This function takes as input the current model\n",
        "    and computes the average accuracy on a batch.\n",
        "    \"\"\"\n",
        "    pred_y = jax.vmap(model)(x)\n",
        "    pred_y = jnp.argmax(pred_y, axis=1)\n",
        "    return jnp.mean(y == pred_y)"
      ],
      "metadata": {
        "id": "btAxYl0UvSVC"
      },
      "execution_count": null,
      "outputs": []
    },
    {
      "cell_type": "code",
      "source": [
        "def evaluate(model: CNN, testloader: torch.utils.data.DataLoader):\n",
        "    \"\"\"This function evaluates the model on the test dataset,\n",
        "    computing both the average loss and the average accuracy.\n",
        "    \"\"\"\n",
        "    avg_loss = 0\n",
        "    avg_acc = 0\n",
        "    for x, y in testloader:\n",
        "        x = x.numpy()\n",
        "        y = y.numpy()\n",
        "        # Note that all the JAX operations happen inside `loss` and `compute_accuracy`,\n",
        "        # and both have JIT wrappers, so this is fast.\n",
        "        avg_loss += loss(model, x, y)\n",
        "        avg_acc += compute_accuracy(model, x, y)\n",
        "    return avg_loss / len(testloader), avg_acc / len(testloader)"
      ],
      "metadata": {
        "id": "jyFUYQk2vUBB"
      },
      "execution_count": null,
      "outputs": []
    },
    {
      "cell_type": "code",
      "source": [
        "evaluate(model, testloader)"
      ],
      "metadata": {
        "colab": {
          "base_uri": "https://localhost:8080/"
        },
        "id": "4l3GUiRWvVru",
        "outputId": "0e095b46-d3fc-42de-ca28-8fa610c76120"
      },
      "execution_count": null,
      "outputs": [
        {
          "output_type": "execute_result",
          "data": {
            "text/plain": [
              "(Array(2.3078082, dtype=float32), Array(0.10081609, dtype=float32))"
            ]
          },
          "metadata": {},
          "execution_count": 17
        }
      ]
    },
    {
      "cell_type": "code",
      "source": [
        "optim = optax.adamw(LEARNING_RATE)"
      ],
      "metadata": {
        "id": "mkftuLSZvXfq"
      },
      "execution_count": null,
      "outputs": []
    },
    {
      "cell_type": "code",
      "source": [
        "def train(\n",
        "    model: CNN,\n",
        "    trainloader: torch.utils.data.DataLoader,\n",
        "    testloader: torch.utils.data.DataLoader,\n",
        "    optim: optax.GradientTransformation,\n",
        "    steps: int,\n",
        "    print_every: int,\n",
        ") -> CNN:\n",
        "    # Just like earlier: It only makes sense to train the arrays in our model,\n",
        "    # so filter out everything else.\n",
        "    opt_state = optim.init(eqx.filter(model, eqx.is_array))\n",
        "\n",
        "    # Always wrap everything -- computing gradients, running the optimiser, updating\n",
        "    # the model -- into a single JIT region. This ensures things run as fast as\n",
        "    # possible.\n",
        "    @eqx.filter_jit\n",
        "    def make_step(\n",
        "        model: CNN,\n",
        "        opt_state: PyTree,\n",
        "        x: Float[Array, \"batch 1 28 28\"],\n",
        "        y: Int[Array, \" batch\"],\n",
        "    ):\n",
        "        loss_value, grads = eqx.filter_value_and_grad(loss)(model, x, y)\n",
        "        updates, opt_state = optim.update(grads, opt_state, model)\n",
        "        model = eqx.apply_updates(model, updates)\n",
        "        return model, opt_state, loss_value\n",
        "\n",
        "    # Loop over our training dataset as many times as we need.\n",
        "    def infinite_trainloader():\n",
        "        while True:\n",
        "            yield from trainloader\n",
        "\n",
        "    for step, (x, y) in zip(range(steps), infinite_trainloader()):\n",
        "        # PyTorch dataloaders give PyTorch tensors by default,\n",
        "        # so convert them to NumPy arrays.\n",
        "        x = x.numpy()\n",
        "        y = y.numpy()\n",
        "        model, opt_state, train_loss = make_step(model, opt_state, x, y)\n",
        "        if (step % print_every) == 0 or (step == steps - 1):\n",
        "            test_loss, test_accuracy = evaluate(model, testloader)\n",
        "            print(\n",
        "                f\"{step=}, train_loss={train_loss.item()}, \"\n",
        "                f\"test_loss={test_loss.item()}, test_accuracy={test_accuracy.item()}\"\n",
        "            )\n",
        "    return model"
      ],
      "metadata": {
        "id": "mC-7jn8XvYz9"
      },
      "execution_count": null,
      "outputs": []
    },
    {
      "cell_type": "code",
      "source": [
        "model = train(model, trainloader, testloader, optim, STEPS, PRINT_EVERY)"
      ],
      "metadata": {
        "colab": {
          "base_uri": "https://localhost:8080/"
        },
        "id": "Z5LLiQItvohz",
        "outputId": "a9cc9628-e13e-4600-80f0-727083599908"
      },
      "execution_count": null,
      "outputs": [
        {
          "output_type": "stream",
          "name": "stdout",
          "text": [
            "step=0, train_loss=2.3139700889587402, test_loss=2.3045575618743896, test_accuracy=0.12659235298633575\n",
            "step=30, train_loss=2.1834115982055664, test_loss=2.168821334838867, test_accuracy=0.32354697585105896\n",
            "step=60, train_loss=1.9426651000976562, test_loss=1.884477972984314, test_accuracy=0.6247014403343201\n",
            "step=90, train_loss=1.5136895179748535, test_loss=1.4511332511901855, test_accuracy=0.737261176109314\n",
            "step=120, train_loss=1.0158263444900513, test_loss=1.0274163484573364, test_accuracy=0.8037420511245728\n",
            "step=150, train_loss=0.7833031415939331, test_loss=0.7509862780570984, test_accuracy=0.8215565085411072\n",
            "step=180, train_loss=0.6055166721343994, test_loss=0.5831165909767151, test_accuracy=0.8663415312767029\n",
            "step=210, train_loss=0.5323667526245117, test_loss=0.5041787028312683, test_accuracy=0.8733081221580505\n",
            "step=240, train_loss=0.4918504059314728, test_loss=0.44156938791275024, test_accuracy=0.8894307613372803\n",
            "step=270, train_loss=0.529234766960144, test_loss=0.4182316064834595, test_accuracy=0.8884354829788208\n",
            "step=299, train_loss=0.27532264590263367, test_loss=0.3809020519256592, test_accuracy=0.8981887102127075\n"
          ]
        }
      ]
    }
  ]
}